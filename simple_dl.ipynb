{
  "nbformat": 4,
  "nbformat_minor": 0,
  "metadata": {
    "colab": {
      "name": "simple_dl.ipynb",
      "provenance": [],
      "authorship_tag": "ABX9TyPrV+rbUvq4BX0u6RcRyCMv",
      "include_colab_link": true
    },
    "kernelspec": {
      "name": "python3",
      "display_name": "Python 3"
    }
  },
  "cells": [
    {
      "cell_type": "markdown",
      "metadata": {
        "id": "view-in-github",
        "colab_type": "text"
      },
      "source": [
        "<a href=\"https://colab.research.google.com/github/ju-ki/pytorch_basic/blob/master/simple_dl.ipynb\" target=\"_parent\"><img src=\"https://colab.research.google.com/assets/colab-badge.svg\" alt=\"Open In Colab\"/></a>"
      ]
    },
    {
      "cell_type": "code",
      "metadata": {
        "id": "yKbRDyO0mMnC"
      },
      "source": [
        "import numpy as np\n",
        "import matplotlib.pyplot as plt\n",
        "from sklearn import datasets"
      ],
      "execution_count": 2,
      "outputs": []
    },
    {
      "cell_type": "code",
      "metadata": {
        "id": "JUxj9QgVmZH8"
      },
      "source": [
        "digits_data = datasets.load_digits()"
      ],
      "execution_count": 3,
      "outputs": []
    },
    {
      "cell_type": "code",
      "metadata": {
        "colab": {
          "base_uri": "https://localhost:8080/",
          "height": 249
        },
        "id": "oL330CGcmhIe",
        "outputId": "d97f66fb-3f38-49ae-f3ab-1568c183533b"
      },
      "source": [
        "n_img = 10\n",
        "plt.figure(figsize=(10, 4))\n",
        "for i in range(n_img):\n",
        "  ax = plt.subplot(2, 5, i+1)\n",
        "  plt.imshow(digits_data.data[i].reshape(8, 8), cmap=\"Greys_r\")\n",
        "  ax.get_xaxis().set_visible(False)\n",
        "  ax.get_yaxis().set_visible(False)\n",
        "plt.show()"
      ],
      "execution_count": 4,
      "outputs": [
        {
          "output_type": "display_data",
          "data": {
            "image/png": "[encoded data removed]",
            "text/plain": [
              "<Figure size 720x288 with 10 Axes>"
            ]
          },
          "metadata": {
            "tags": [],
            "needs_background": "light"
          }
        }
      ]
    },
    {
      "cell_type": "code",
      "metadata": {
        "id": "TIz8Ju37nFps"
      },
      "source": [
        "import torch \n",
        "from sklearn.model_selection import train_test_split\n",
        "\n",
        "digit_images = digits_data.data\n",
        "labels = digits_data.target\n",
        "X_train, X_test, y_train, y_test = train_test_split(digit_images, labels)\n",
        "\n",
        "X_train = torch.tensor(X_train, dtype=torch.float32)\n",
        "t_train = torch.tensor(y_train, dtype=torch.int64) \n",
        "X_test = torch.tensor(X_test, dtype=torch.float32)\n",
        "t_test = torch.tensor(y_test, dtype=torch.int64)"
      ],
      "execution_count": 11,
      "outputs": []
    },
    {
      "cell_type": "code",
      "metadata": {
        "colab": {
          "base_uri": "https://localhost:8080/"
        },
        "id": "mmRoUK4rnr19",
        "outputId": "a3dc41f7-57b8-40ac-96d0-5ae3463944e5"
      },
      "source": [
        "from torch import nn\n",
        "net = nn.Sequential(\n",
        "    nn.Linear(64, 32),\n",
        "    nn.ReLU(),\n",
        "    nn.Linear(32, 16),\n",
        "    nn.ReLU(),\n",
        "    nn.Linear(16, 10)\n",
        ")\n",
        "\n",
        "print(net)"
      ],
      "execution_count": 10,
      "outputs": [
        {
          "output_type": "stream",
          "text": [
            "Sequential(\n",
            "  (0): Linear(in_features=64, out_features=32, bias=True)\n",
            "  (1): ReLU()\n",
            "  (2): Linear(in_features=32, out_features=16, bias=True)\n",
            "  (3): ReLU()\n",
            "  (4): Linear(in_features=16, out_features=10, bias=True)\n",
            ")\n"
          ],
          "name": "stdout"
        }
      ]
    },
    {
      "cell_type": "code",
      "metadata": {
        "id": "x7D1uM0ypsvw"
      },
      "source": [
        "from torch import optim\n",
        "import tqdm"
      ],
      "execution_count": 13,
      "outputs": []
    },
    {
      "cell_type": "code",
      "metadata": {
        "colab": {
          "base_uri": "https://localhost:8080/"
        },
        "id": "ugyr3waxn7aZ",
        "outputId": "96651efc-30cb-4fcc-ed4e-da7173f8a291"
      },
      "source": [
        "loss_fnc = nn.CrossEntropyLoss()\n",
        "\n",
        "optimizer = optim.Adam(net.parameters(), lr=0.01)\n",
        "record_loss_train = []\n",
        "record_loss_test = []\n",
        "\n",
        "for i in range(1000):\n",
        "  optimizer.zero_grad()\n",
        "  y_train = net(X_train)\n",
        "  y_test = net(X_test)\n",
        "\n",
        "  loss_train = loss_fnc(y_train, t_train)\n",
        "  loss_test = loss_fnc(y_test, t_test)\n",
        "  record_loss_train.append(loss_train.item())\n",
        "  record_loss_test.append(loss_test.item())\n",
        "\n",
        "  loss_train.backward()\n",
        "  optimizer.step()\n",
        "\n",
        "  if i %100 == 0:\n",
        "    print(\"Epoch:\", i, \"Loss_train:\", loss_train.item(), \"Loss_test:\", loss_test.item())\n"
      ],
      "execution_count": 16,
      "outputs": [
        {
          "output_type": "stream",
          "text": [
            "Epoch: 0 Loss_train: 2.1754791736602783 Loss_test: 2.184100866317749\n",
            "Epoch: 100 Loss_train: 0.0029939671512693167 Loss_test: 0.14586541056632996\n",
            "Epoch: 200 Loss_train: 0.0006881174631416798 Loss_test: 0.1609072983264923\n",
            "Epoch: 300 Loss_train: 0.000313171767629683 Loss_test: 0.1687338799238205\n",
            "Epoch: 400 Loss_train: 0.0001821512560127303 Loss_test: 0.17600898444652557\n",
            "Epoch: 500 Loss_train: 0.00011990834900643677 Loss_test: 0.18104806542396545\n",
            "Epoch: 600 Loss_train: 8.520028495695442e-05 Loss_test: 0.18554341793060303\n",
            "Epoch: 700 Loss_train: 6.36802360531874e-05 Loss_test: 0.1894579976797104\n",
            "Epoch: 800 Loss_train: 4.9472910177428275e-05 Loss_test: 0.19268298149108887\n",
            "Epoch: 900 Loss_train: 3.9424787246389315e-05 Loss_test: 0.19591784477233887\n"
          ],
          "name": "stdout"
        }
      ]
    },
    {
      "cell_type": "code",
      "metadata": {
        "colab": {
          "base_uri": "https://localhost:8080/",
          "height": 279
        },
        "id": "rnDBdnoIpoiM",
        "outputId": "2f2ca781-f333-4450-ac75-e00148379277"
      },
      "source": [
        "\n",
        "plt.plot(range(len(record_loss_train)), record_loss_train, label=\"Train\")\n",
        "plt.plot(range(len(record_loss_test)), record_loss_test, label=\"Test\")\n",
        "plt.legend()\n",
        "\n",
        "plt.xlabel(\"Epochs\")\n",
        "plt.ylabel(\"Error\")\n",
        "plt.show()"
      ],
      "execution_count": 17,
      "outputs": [
        {
          "output_type": "display_data",
          "data": {
            "image/png": "[encoded data removed]",
            "text/plain": [
              "<Figure size 432x288 with 1 Axes>"
            ]
          },
          "metadata": {
            "tags": [],
            "needs_background": "light"
          }
        }
      ]
    },
    {
      "cell_type": "code",
      "metadata": {
        "colab": {
          "base_uri": "https://localhost:8080/"
        },
        "id": "HMJexMtep7Vj",
        "outputId": "b3df7093-fe90-4e04-a19a-e1ac17e1fa59"
      },
      "source": [
        "y_test = net(X_test)\n",
        "count = (y_test.argmax(1) == t_test).sum().item()\n",
        "print(\"正解率:\", str(count/len(y_test)*100) + \"%\")"
      ],
      "execution_count": 19,
      "outputs": [
        {
          "output_type": "stream",
          "text": [
            "正解率: 97.33333333333334%\n"
          ],
          "name": "stdout"
        }
      ]
    },
    {
      "cell_type": "code",
      "metadata": {
        "colab": {
          "base_uri": "https://localhost:8080/",
          "height": 282
        },
        "id": "GYdHpgvZp-1y",
        "outputId": "368add5c-5917-421c-e899-e736f2ff3da4"
      },
      "source": [
        "img_id = 0\n",
        "x_pred = digit_images[img_id]\n",
        "image = x_pred.reshape(8, 8)\n",
        "plt.imshow(image, cmap=\"Greys_r\")\n",
        "plt.show()\n",
        "\n",
        "x_pred = torch.tensor(x_pred, dtype=torch.float32)\n",
        "y_pred = net(x_pred)\n",
        "print(\"正解:\", labels[img_id], \"予測結果:\", y_pred.argmax().item())"
      ],
      "execution_count": 20,
      "outputs": [
        {
          "output_type": "display_data",
          "data": {
            "image/png": "[encoded data removed]",
            "text/plain": [
              "<Figure size 432x288 with 1 Axes>"
            ]
          },
          "metadata": {
            "tags": [],
            "needs_background": "light"
          }
        },
        {
          "output_type": "stream",
          "text": [
            "正解: 0 予測結果: 0\n"
          ],
          "name": "stdout"
        }
      ]
    }
  ]
}